{
 "cells": [
  {
   "cell_type": "code",
   "execution_count": 3,
   "metadata": {},
   "outputs": [
    {
     "name": "stdout",
     "output_type": "stream",
     "text": [
      "Course: Intro To Python\n",
      "Student: Hayk Dadyan\n",
      "Nickname: Superman\n",
      "Grade: 100\n",
      "Python_expert: True\n"
     ]
    }
   ],
   "source": [
    "#Problem 2\n",
    "course = \"Intro To Python\"\n",
    "student = \"Hayk Dadyan\"\n",
    "nickname = \"Superman\"\n",
    "grade = 100\n",
    "pythonExpert = True\n",
    "print(\"Course:\",course)\n",
    "print(\"Student:\",student)\n",
    "print(\"Nickname:\",nickname)\n",
    "print(\"Grade:\",grade)\n",
    "print(\"Python_expert:\",pythonExpert)"
   ]
  },
  {
   "cell_type": "code",
   "execution_count": 1,
   "metadata": {},
   "outputs": [
    {
     "name": "stdout",
     "output_type": "stream",
     "text": [
      "The hypotenuse of the triangle ABC = 5.0\n"
     ]
    }
   ],
   "source": [
    "#Problem4\n",
    "ab=3\n",
    "ac=4\n",
    "bc=(ab**2+ac**2)**(1/2)\n",
    "print(\"The hypotenuse of the triangle ABC =\",bc)"
   ]
  },
  {
   "cell_type": "code",
   "execution_count": null,
   "metadata": {},
   "outputs": [],
   "source": []
  }
 ],
 "metadata": {
  "kernelspec": {
   "display_name": "Python 3",
   "language": "python",
   "name": "python3"
  },
  "language_info": {
   "codemirror_mode": {
    "name": "ipython",
    "version": 3
   },
   "file_extension": ".py",
   "mimetype": "text/x-python",
   "name": "python",
   "nbconvert_exporter": "python",
   "pygments_lexer": "ipython3",
   "version": "3.7.4"
  }
 },
 "nbformat": 4,
 "nbformat_minor": 2
}
