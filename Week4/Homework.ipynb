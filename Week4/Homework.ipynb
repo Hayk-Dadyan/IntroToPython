{
 "cells": [
  {
   "cell_type": "code",
   "execution_count": 1,
   "metadata": {},
   "outputs": [
    {
     "name": "stdout",
     "output_type": "stream",
     "text": [
      "Input: 11\n",
      "You get a discount.\n"
     ]
    }
   ],
   "source": [
    "#Problem 1\n",
    "n_shoes = int(input('Input: '))\n",
    "if n_shoes<=10:\n",
    "    print('You don\\'t get a discount.')\n",
    "else:\n",
    "    print('You get a discount.')"
   ]
  },
  {
   "cell_type": "code",
   "execution_count": 2,
   "metadata": {},
   "outputs": [
    {
     "name": "stdout",
     "output_type": "stream",
     "text": [
      "Good job!\n"
     ]
    }
   ],
   "source": [
    "#Problem 2\n",
    "d = {'name': 'Armen', 'age': 15, 'grades': [10, 8, 8, 4, 6, 7] }\n",
    "y = sum(d['grades'])/len(d['grades'])\n",
    "if y>7:\n",
    "    print('Good job!')\n",
    "else:\n",
    "    print('You need to work more.')"
   ]
  },
  {
   "cell_type": "code",
   "execution_count": 3,
   "metadata": {},
   "outputs": [
    {
     "name": "stdout",
     "output_type": "stream",
     "text": [
      "1\n",
      "3\n",
      "5\n",
      "7\n",
      "9\n"
     ]
    }
   ],
   "source": [
    "#Problem 3\n",
    "x = range(10)\n",
    "for y in x:\n",
    "    if y%2 == 1:\n",
    "        print(y)\n",
    "    else:\n",
    "        continue"
   ]
  },
  {
   "cell_type": "code",
   "execution_count": 4,
   "metadata": {},
   "outputs": [
    {
     "name": "stdout",
     "output_type": "stream",
     "text": [
      "1\n",
      "3\n",
      "5\n",
      "7\n",
      "9\n",
      "The value at which break occured: 11\n"
     ]
    }
   ],
   "source": [
    "#Problem 4\n",
    "list1 = [1, 3, 5, 7, 9, 11, 13, 15]\n",
    "list2 = [4, 6,14, 11, 8, 16]\n",
    "for y in list1:\n",
    "    if y in list2:\n",
    "        print('The value at which break occured:', y)\n",
    "        break\n",
    "    else:\n",
    "        print(y)"
   ]
  },
  {
   "cell_type": "code",
   "execution_count": 6,
   "metadata": {},
   "outputs": [
    {
     "name": "stdout",
     "output_type": "stream",
     "text": [
      "Input: cake\n",
      "Please, choose another dessert.\n",
      "Input: biscuit\n",
      "Please, choose another dessert.\n",
      "Input: cookies\n",
      "Your dessert will arrive in 10 minutes.\n"
     ]
    }
   ],
   "source": [
    "#Problem 5\n",
    "menu = ['ice cream', 'chocolate', 'apple crisp', 'cookies']\n",
    "while menu:\n",
    "    dessert = str(input('Input: '))\n",
    "    if dessert in menu:\n",
    "        print('Your dessert will arrive in 10 minutes.')\n",
    "        break\n",
    "    else:\n",
    "        print('Please, choose another dessert.')\n",
    "        dessert"
   ]
  },
  {
   "cell_type": "code",
   "execution_count": 38,
   "metadata": {},
   "outputs": [
    {
     "name": "stdout",
     "output_type": "stream",
     "text": [
      "5\n"
     ]
    }
   ],
   "source": [
    "#Problem 6\n",
    "list2 = [2, 8, 13, 28, 5, 9, 3, 10, 7]\n",
    "x = [y for y in list2 if 5<=y<=10]\n",
    "print(len(x))"
   ]
  },
  {
   "cell_type": "code",
   "execution_count": 41,
   "metadata": {},
   "outputs": [
    {
     "name": "stdout",
     "output_type": "stream",
     "text": [
      "List 4: [[10, 20, 40], [40, 50, 60], [70, 80, 90]]\n",
      "List 5: [[10, 20, 100], [40, 50, 100], [70, 80, 100]]\n"
     ]
    }
   ],
   "source": [
    "list4 =[[10, 20, 40], [40, 50, 60], [70, 80, 90]]\n",
    "print('List 4:', list4)\n",
    "list5 = [x[:-1]+[100] for x in list4]\n",
    "print('List 5:', list5)"
   ]
  },
  {
   "cell_type": "code",
   "execution_count": null,
   "metadata": {},
   "outputs": [],
   "source": []
  }
 ],
 "metadata": {
  "kernelspec": {
   "display_name": "Python 3",
   "language": "python",
   "name": "python3"
  },
  "language_info": {
   "codemirror_mode": {
    "name": "ipython",
    "version": 3
   },
   "file_extension": ".py",
   "mimetype": "text/x-python",
   "name": "python",
   "nbconvert_exporter": "python",
   "pygments_lexer": "ipython3",
   "version": "3.7.4"
  }
 },
 "nbformat": 4,
 "nbformat_minor": 2
}
