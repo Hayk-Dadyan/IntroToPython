{
 "cells": [
  {
   "cell_type": "code",
   "execution_count": 1,
   "metadata": {},
   "outputs": [
    {
     "name": "stdout",
     "output_type": "stream",
     "text": [
      "48\n",
      "99\n",
      "The number 99 is the greatest.\n"
     ]
    }
   ],
   "source": [
    "#Problem 1\n",
    "x = int(input())\n",
    "y = int(input())\n",
    "if x > y:\n",
    "    print('The number ' + str(x) + ' is the greatest')\n",
    "elif x < y:\n",
    "    print('The number ' + str(y) + ' is the greatest.')\n",
    "else:\n",
    "    print('Numbers are equal.')"
   ]
  },
  {
   "cell_type": "code",
   "execution_count": 2,
   "metadata": {},
   "outputs": [
    {
     "name": "stdout",
     "output_type": "stream",
     "text": [
      "4\n",
      "9\n",
      "Rectangle.\n"
     ]
    }
   ],
   "source": [
    "#Problem 2\n",
    "a = int(input())\n",
    "b = int(input())\n",
    "if a == b:\n",
    "    print('Square.')\n",
    "else:\n",
    "    print('Rectangle.')"
   ]
  },
  {
   "cell_type": "code",
   "execution_count": 52,
   "metadata": {},
   "outputs": [],
   "source": [
    "#Problem 3\n",
    "name = 'John'\n",
    "age = 18\n",
    "password = \"123456*&\"\n",
    "if name == 'Batman':\n",
    "    print('Welcome Mr. Batman!')\n",
    "else:\n",
    "    if age < 16:\n",
    "        print('Dear ' + name + ', you are too young to register.')\n",
    "    if ('*' not in password) and ('&' not in password):\n",
    "        print('Please enter a different password.')"
   ]
  },
  {
   "cell_type": "code",
   "execution_count": 53,
   "metadata": {},
   "outputs": [
    {
     "name": "stdout",
     "output_type": "stream",
     "text": [
      "Input any number: 65\n",
      "{'name': 'Armen', 'age': 15, 'grades': [10, 8, 8, 4, 6, 7], 'weight': 65}\n"
     ]
    }
   ],
   "source": [
    "#Problem 4\n",
    "d = {'name' : 'Armen', 'age' : 15, 'grades' : [10, 8, 8, 4, 6, 7]}\n",
    "if 'weight' not in d:\n",
    "    x = int(input('Input any number: '))\n",
    "    d['weight'] = x\n",
    "    print(d)\n",
    "else:\n",
    "    print(d)"
   ]
  },
  {
   "cell_type": "code",
   "execution_count": 5,
   "metadata": {},
   "outputs": [
    {
     "name": "stdout",
     "output_type": "stream",
     "text": [
      "1\n",
      "3\n",
      "5\n",
      "7\n",
      "9\n",
      "11\n",
      "13\n",
      "15\n",
      "17\n",
      "19\n",
      "21\n",
      "23\n",
      "25\n",
      "27\n",
      "29\n",
      "31\n",
      "33\n",
      "35\n",
      "37\n",
      "39\n",
      "41\n",
      "43\n",
      "45\n",
      "47\n",
      "49\n",
      "51\n",
      "53\n",
      "55\n",
      "57\n",
      "59\n",
      "61\n",
      "63\n",
      "65\n",
      "67\n",
      "69\n",
      "71\n",
      "73\n",
      "75\n",
      "77\n",
      "79\n",
      "81\n",
      "83\n",
      "85\n",
      "87\n",
      "89\n",
      "91\n",
      "93\n",
      "95\n",
      "97\n",
      "99\n"
     ]
    }
   ],
   "source": [
    "#Problem 5\n",
    "x = range(0, 101)\n",
    "for y in x:\n",
    "    if y%2==1:\n",
    "        print(y)\n",
    "    y += 1"
   ]
  },
  {
   "cell_type": "code",
   "execution_count": 6,
   "metadata": {},
   "outputs": [
    {
     "name": "stdout",
     "output_type": "stream",
     "text": [
      "y = 0\n",
      "y = 1\n",
      "y = 3\n",
      "y = 5\n",
      "y = 6\n"
     ]
    }
   ],
   "source": [
    "#Problem 6\n",
    "x = range(0, 7)\n",
    "for y in x:\n",
    "    if (y==2) or (y==4):\n",
    "        continue\n",
    "    print('y =', y)\n",
    "    y += 1"
   ]
  },
  {
   "cell_type": "code",
   "execution_count": 7,
   "metadata": {},
   "outputs": [
    {
     "name": "stdout",
     "output_type": "stream",
     "text": [
      "1\n",
      "2\n",
      "3\n",
      "4\n",
      "5\n",
      "6\n",
      "7\n",
      "8\n",
      "9\n",
      "10\n",
      "11\n",
      "12\n",
      "13\n",
      "14\n"
     ]
    }
   ],
   "source": [
    "#Problem 7\n",
    "x = range(1, 21)\n",
    "for y in x:\n",
    "    if (y%3==0) & (y%5==0):\n",
    "        break\n",
    "    print(y)\n",
    "    y += 1"
   ]
  },
  {
   "cell_type": "code",
   "execution_count": 8,
   "metadata": {},
   "outputs": [
    {
     "name": "stdout",
     "output_type": "stream",
     "text": [
      "5\n",
      "7\n",
      "-7\n",
      "abc\n",
      "2\n",
      "4\n",
      "True\n"
     ]
    }
   ],
   "source": [
    "#Problem 8\n",
    "list1 = [5, 7, -7, 'abc', 2, 4, True, 3, 4, 6, 7, 7]\n",
    "for y in list1:\n",
    "    if y==3:\n",
    "        break\n",
    "    print(y)\n",
    "    continue"
   ]
  },
  {
   "cell_type": "code",
   "execution_count": 49,
   "metadata": {},
   "outputs": [
    {
     "name": "stdout",
     "output_type": "stream",
     "text": [
      "Input: 6\n",
      "Input: 6\n",
      "Input: 6\n",
      "Input: 6\n",
      "Input: 5\n",
      "That was a good guess!\n"
     ]
    }
   ],
   "source": [
    "#Problem 9\n",
    "correct_num = 5\n",
    "for x in range(10):\n",
    "        guess = int(input('Input: '))\n",
    "        if guess == correct_num:\n",
    "            print('That was a good guess!')\n",
    "            break"
   ]
  },
  {
   "cell_type": "code",
   "execution_count": 58,
   "metadata": {},
   "outputs": [
    {
     "name": "stdout",
     "output_type": "stream",
     "text": [
      "Before: [7, 8, 120, 25, 44, 20, 27]\n",
      "After : [7, 25, 27]\n"
     ]
    }
   ],
   "source": [
    "#Problem 10\n",
    "num = [7,8, 120, 25, 44, 20, 27]\n",
    "print('Before:', num)\n",
    "z = [x for x in num if x%2==1]\n",
    "print('After :', z)"
   ]
  },
  {
   "cell_type": "code",
   "execution_count": 60,
   "metadata": {},
   "outputs": [
    {
     "name": "stdout",
     "output_type": "stream",
     "text": [
      "[0, 1, 4, 9, 16, 25, 36, 49, 64, 81, 100, 121, 144, 169, 196, 225, 256, 289, 324, 361, 400, 441, 484, 529, 576, 625, 676, 729, 784, 841, 900, 961, 1024, 1089, 1156, 1225, 1296, 1369, 1444, 1521, 1600, 1681, 1764, 1849, 1936, 2025, 2116, 2209, 2304, 2401, 2500]\n"
     ]
    }
   ],
   "source": [
    "#Problem 11\n",
    "list3 = range(51)\n",
    "z = [x**2 for x in list3]\n",
    "print(z)"
   ]
  },
  {
   "cell_type": "code",
   "execution_count": 62,
   "metadata": {},
   "outputs": [
    {
     "name": "stdout",
     "output_type": "stream",
     "text": [
      "[55, 120, 24, 33, 500, 41]\n"
     ]
    }
   ],
   "source": [
    "#Problem 12\n",
    "list1 = [7, 55, 120, 24, 2, 33, 11, 500, 41, 18]\n",
    "y = [x for x in list1 if x>20]\n",
    "print(y)"
   ]
  },
  {
   "cell_type": "code",
   "execution_count": 85,
   "metadata": {},
   "outputs": [
    {
     "name": "stdout",
     "output_type": "stream",
     "text": [
      "Input: yes\n",
      "Before: yes\n",
      "After : ['y', 'e', 's']\n"
     ]
    }
   ],
   "source": [
    "#Problem 13\n",
    "x = str(input('Input: '))\n",
    "print('Before:', x)\n",
    "l1 = []\n",
    "for y in range(len(x)):\n",
    "    l1.append(x[y])\n",
    "print('After :', l1)"
   ]
  },
  {
   "cell_type": "code",
   "execution_count": 109,
   "metadata": {},
   "outputs": [
    {
     "name": "stdout",
     "output_type": "stream",
     "text": [
      "2\n"
     ]
    }
   ],
   "source": [
    "#Problem 14\n",
    "list1 =  ['a', 'abc', 'xyz', 's', 'aba','1221']\n",
    "a = 0\n",
    "for y in range(len(list1)):\n",
    "    if (list1[y][0] == list1[y][-1]) and (len(list1[y]) >= 2):\n",
    "        a+=1\n",
    "print(a)"
   ]
  },
  {
   "cell_type": "code",
   "execution_count": null,
   "metadata": {},
   "outputs": [],
   "source": []
  }
 ],
 "metadata": {
  "kernelspec": {
   "display_name": "Python 3",
   "language": "python",
   "name": "python3"
  },
  "language_info": {
   "codemirror_mode": {
    "name": "ipython",
    "version": 3
   },
   "file_extension": ".py",
   "mimetype": "text/x-python",
   "name": "python",
   "nbconvert_exporter": "python",
   "pygments_lexer": "ipython3",
   "version": "3.7.4"
  }
 },
 "nbformat": 4,
 "nbformat_minor": 2
}
