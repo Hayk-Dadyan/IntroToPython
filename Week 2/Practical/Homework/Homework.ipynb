{
 "cells": [
  {
   "cell_type": "code",
   "execution_count": 1,
   "metadata": {},
   "outputs": [
    {
     "name": "stdout",
     "output_type": "stream",
     "text": [
      "2\n",
      "5\n",
      "Current date: 2020-03-24 22:58:36.262103\n",
      "Given years: 2\n",
      "Given days: 5\n",
      "Final date: 2018-03-20 22:58:36.262103\n"
     ]
    }
   ],
   "source": [
    "#Problem 1\n",
    "import datetime\n",
    "import time\n",
    "num_y = int(input())\n",
    "num_d = int(input())\n",
    "datetime1 = datetime.datetime.today()\n",
    "tdelta1 = datetime.timedelta (days = 365)\n",
    "tdelta2 = datetime.timedelta (days = 1)\n",
    "print(\"Current date:\" ,datetime1)\n",
    "print(\"Given years:\" ,num_y)\n",
    "print(\"Given days:\" ,num_d)\n",
    "print(\"Final date:\" ,datetime1 - (num_y * tdelta1) - (num_d * tdelta2))"
   ]
  },
  {
   "cell_type": "code",
   "execution_count": 3,
   "metadata": {},
   "outputs": [
    {
     "name": "stdout",
     "output_type": "stream",
     "text": [
      "abcdefghijklm\n",
      "The old string: abcdefghijklm\n",
      "Middle 3 characters: fgh\n",
      "The new string: abcdeFGHijklm\n"
     ]
    }
   ],
   "source": [
    "#Problem 2\n",
    "text = input()\n",
    "mid = int((len(text)-1)/2)\n",
    "print(\"The old string:\" ,text)\n",
    "print(\"Middle 3 characters:\" ,text[mid-1:mid+2])\n",
    "print(\"The new string:\" ,text[:mid-1] + text[mid-1:mid+2].upper() + text[mid+2:])"
   ]
  },
  {
   "cell_type": "code",
   "execution_count": 4,
   "metadata": {},
   "outputs": [
    {
     "name": "stdout",
     "output_type": "stream",
     "text": [
      "This is FIRST variant\n",
      "FIRST\n",
      "SECOND\n",
      "--------------------------------\n",
      "The given text: This is FIRST variant\n",
      "First word: FIRST\n",
      "Second word: SECOND\n",
      "Output string: This is SECOND variant\n"
     ]
    }
   ],
   "source": [
    "#Problem 3\n",
    "text = input()\n",
    "first_word = input()\n",
    "second_word = input()\n",
    "print(\"--------------------------------\")\n",
    "print(\"The given text:\" ,text)\n",
    "print(\"First word:\" ,first_word)\n",
    "print(\"Second word:\" ,second_word)\n",
    "print(\"Output string:\" ,text.replace(first_word ,second_word))"
   ]
  },
  {
   "cell_type": "code",
   "execution_count": 5,
   "metadata": {},
   "outputs": [
    {
     "name": "stdout",
     "output_type": "stream",
     "text": [
      "Welcome to USA. usa is awesome, isn't it?\n",
      "The given string: Welcome to USA. usa is awesome, isn't it?\n",
      "The USA/usa count is: 2\n",
      "The new string: Welcome to Armenia. Armenia is awesome, isn't it?\n"
     ]
    }
   ],
   "source": [
    "#Problem 4\n",
    "text = input()\n",
    "x = text.count(\"USA\")\n",
    "y = text.count(\"usa\")\n",
    "z = text[:11] + text[11:14].lower() + text[14:]\n",
    "print(\"The given string:\" ,text)\n",
    "print(\"The USA/usa count is:\" ,x + y)\n",
    "print(\"The new string:\" ,z.replace(\"usa\",\"Armenia\"))"
   ]
  },
  {
   "cell_type": "code",
   "execution_count": 6,
   "metadata": {},
   "outputs": [
    {
     "name": "stdout",
     "output_type": "stream",
     "text": [
      "Date of birth: 2000-09-12\n",
      "Year of birth: 2000\n",
      "Month of birth: 9\n",
      "Day of birth: 12\n",
      "Day of week: 2\n",
      "Until next birthday: 172 days, 0:00:00\n",
      "--------------------------------------\n",
      "      May 2017\n",
      "Mo Tu We Th Fr Sa Su\n",
      " 1  2  3  4  5  6  7\n",
      " 8  9 10 11 12 13 14\n",
      "15 16 17 18 19 20 21\n",
      "22 23 24 25 26 27 28\n",
      "29 30 31\n",
      "\n",
      "--------------------------------------\n",
      "Yesterday at this time: 2020-03-23 23:02:04.076644\n",
      "Yesterday + 2 days: 2020-03-25 23:02:04.076644\n",
      "Yesterday - 3 days: 2020-03-20 23:02:04.076644\n"
     ]
    }
   ],
   "source": [
    "#Problem 5\n",
    "import datetime\n",
    "import time\n",
    "import calendar\n",
    "bday = datetime.date(2000, 9, 12)\n",
    "today = datetime.date.today()\n",
    "datetime_today = datetime.datetime.today()\n",
    "next_bday = datetime.date(2020, 9, 12)\n",
    "tdelta1 = datetime.timedelta(days = 1)\n",
    "x = datetime_today - tdelta1\n",
    "tdelta2 = datetime.timedelta(days = 2)\n",
    "tdelta3 = datetime.timedelta(days = 3)\n",
    "print(\"Date of birth:\", bday)\n",
    "print(\"Year of birth:\", bday.year)\n",
    "print(\"Month of birth:\", bday.month)\n",
    "print(\"Day of birth:\", bday.day)\n",
    "print(\"Day of week:\", bday.isoweekday())\n",
    "print(\"Until next birthday:\", next_bday - today)\n",
    "print(\"--------------------------------------\")\n",
    "print(calendar.month(2017, 5))\n",
    "print(\"--------------------------------------\")\n",
    "print(\"Yesterday at this time:\", x)\n",
    "print(\"Yesterday + 2 days:\", x + tdelta2)\n",
    "print(\"Yesterday - 3 days:\", x - tdelta3)"
   ]
  },
  {
   "cell_type": "code",
   "execution_count": null,
   "metadata": {},
   "outputs": [],
   "source": []
  }
 ],
 "metadata": {
  "kernelspec": {
   "display_name": "Python 3",
   "language": "python",
   "name": "python3"
  },
  "language_info": {
   "codemirror_mode": {
    "name": "ipython",
    "version": 3
   },
   "file_extension": ".py",
   "mimetype": "text/x-python",
   "name": "python",
   "nbconvert_exporter": "python",
   "pygments_lexer": "ipython3",
   "version": "3.7.4"
  }
 },
 "nbformat": 4,
 "nbformat_minor": 2
}
