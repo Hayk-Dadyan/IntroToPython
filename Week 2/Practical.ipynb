{
 "cells": [
  {
   "cell_type": "code",
   "execution_count": 1,
   "metadata": {},
   "outputs": [
    {
     "name": "stdout",
     "output_type": "stream",
     "text": [
      "Input your name:Hayk\n",
      "Input your last name: Dadyan\n",
      "Name: Hayk\n",
      "Last Name: Dadyan\n"
     ]
    }
   ],
   "source": [
    "#Problem 1\n",
    "name = input(\"Input your name:\" )\n",
    "last_name = input(\"Input your last name: \" )\n",
    "print(\"Name:\", name)\n",
    "print(\"Last Name:\",last_name)"
   ]
  },
  {
   "cell_type": "code",
   "execution_count": 2,
   "metadata": {},
   "outputs": [
    {
     "name": "stdout",
     "output_type": "stream",
     "text": [
      "Input any number:15\n",
      "Input any number:52\n",
      "First number: 15\n",
      "Second number: 52\n",
      "Sum: 67\n"
     ]
    }
   ],
   "source": [
    "#Problem 2\n",
    "num1 = int(input(\"Input any number:\" ))\n",
    "num2 = int(input(\"Input any number:\" ))\n",
    "sum = num1 + num2\n",
    "print(\"First number:\", num1)\n",
    "print(\"Second number:\" ,num2)\n",
    "print(\"Sum:\" ,sum)"
   ]
  },
  {
   "cell_type": "code",
   "execution_count": 9,
   "metadata": {},
   "outputs": [
    {
     "name": "stdout",
     "output_type": "stream",
     "text": [
      "Input your age:20\n",
      "Happy Birthday, you are already 20 years old!\n"
     ]
    }
   ],
   "source": [
    "#Problem 3\n",
    "age = input(\"Input your age:\" )\n",
    "age1 = age\n",
    "print(\"Happy Birthday, you are already \" + age + \" years old!\")"
   ]
  },
  {
   "cell_type": "code",
   "execution_count": 10,
   "metadata": {},
   "outputs": [
    {
     "name": "stdout",
     "output_type": "stream",
     "text": [
      "Type anything: TodAy waS a GoOd dAy.\n",
      "All lowercase: today was a good day.\n",
      "All uppercase: TODAY WAS A GOOD DAY.\n"
     ]
    }
   ],
   "source": [
    "#Problem 4\n",
    "text = input(\"Type anything: \" )\n",
    "print(\"All lowercase:\",text.lower())\n",
    "print(\"All uppercase:\",text.upper())"
   ]
  },
  {
   "cell_type": "code",
   "execution_count": 13,
   "metadata": {},
   "outputs": [
    {
     "name": "stdout",
     "output_type": "stream",
     "text": [
      "Type anything:aeeabeecaeeeca\n",
      "The given text: aeeabeecaeeeca\n",
      "# of a: 4\n",
      "# of b: 1\n",
      "# of c: 2\n",
      "# of d: 0\n",
      "# of e: 7\n"
     ]
    }
   ],
   "source": [
    "#Problem 5\n",
    "text = input(\"Type anything:\" )\n",
    "text1 = text\n",
    "print(\"The given text:\" ,text)\n",
    "print(\"# of a:\",text.count('a'))\n",
    "print(\"# of b:\",text.count('b'))\n",
    "print(\"# of c:\",text.count('c'))\n",
    "print(\"# of d:\",text.count('d'))\n",
    "print(\"# of e:\",text.count('e'))"
   ]
  },
  {
   "cell_type": "code",
   "execution_count": 14,
   "metadata": {},
   "outputs": [
    {
     "name": "stdout",
     "output_type": "stream",
     "text": [
      "How are you Hayk?\n",
      "How are you Hayk?\n"
     ]
    }
   ],
   "source": [
    "#Problem 6\n",
    "str1 = \"How are you John?\"\n",
    "name = \"Hayk\"\n",
    "str2=str1[:12] + name + \"?\"\n",
    "print(str2)\n",
    "print(str1.replace(\"John\" ,\"Hayk\"))"
   ]
  },
  {
   "cell_type": "code",
   "execution_count": 15,
   "metadata": {
    "scrolled": true
   },
   "outputs": [
    {
     "name": "stdout",
     "output_type": "stream",
     "text": [
      "Hi, where are you from?\n",
      "I'm from Armenia. \n",
      "How long have you lived here?\n",
      "For 10 years.\n"
     ]
    }
   ],
   "source": [
    "#Problem 7\n",
    "country = \"Armenia\"\n",
    "years  = 10\n",
    "print(\"\"\"Hi, where are you from?\n",
    "I'm from \"\"\" + country + \". \")\n",
    "print(\"\"\"How long have you lived here?\n",
    "For \"\"\" + str(years) + \" years.\")"
   ]
  },
  {
   "cell_type": "code",
   "execution_count": 16,
   "metadata": {},
   "outputs": [
    {
     "name": "stdout",
     "output_type": "stream",
     "text": [
      "Type anyhing:I'm so happy to see you.\n",
      "Start index:4\n",
      "Start index:11\n",
      "---------------------------------------\n",
      "The given text: I'm so happy to see you.\n",
      "Start index: 4\n",
      "End index: 11\n",
      "Output string:so happ\n"
     ]
    }
   ],
   "source": [
    "#Problem 8\n",
    "text = input(\"Type anyhing:\" )\n",
    "text1 = text\n",
    "start_index = int(input(\"Start index:\" ))\n",
    "end_index = int(input(\"Start index:\" ))\n",
    "print(\"---------------------------------------\")\n",
    "print(\"The given text:\" ,text)\n",
    "print(\"Start index:\" ,start_index)\n",
    "print(\"End index:\",end_index)\n",
    "print(\"Output string:\" + text1[start_index:end_index])"
   ]
  },
  {
   "cell_type": "code",
   "execution_count": 47,
   "metadata": {},
   "outputs": [
    {
     "name": "stdout",
     "output_type": "stream",
     "text": [
      "Current date and time: 2020-03-21 12:06:30.581825\n",
      "Year: 2020\n",
      "Month: 3\n",
      "Day of the week: 6\n",
      "5 days subtracted: 2020-03-16 12:06:30.581825\n",
      "5 days added: 2020-03-26 12:06:30.581825\n"
     ]
    }
   ],
   "source": [
    "#Problem 9\n",
    "import datetime\n",
    "import time\n",
    "import calendar\n",
    "datetime1 = datetime.datetime.today()\n",
    "tdelta = datetime.timedelta(days = 5)\n",
    "print(\"Current date and time:\",datetime1)\n",
    "print(\"Year:\" ,datetime1.year)\n",
    "print(\"Month:\" ,datetime1.month)\n",
    "print(\"Day of the week:\" ,datetime1.isoweekday())\n",
    "print(\"5 days subtracted:\" ,datetime1 - tdelta)\n",
    "print(\"5 days added:\" ,datetime1 +tdelta)"
   ]
  }
 ],
 "metadata": {
  "kernelspec": {
   "display_name": "Python 3",
   "language": "python",
   "name": "python3"
  },
  "language_info": {
   "codemirror_mode": {
    "name": "ipython",
    "version": 3
   },
   "file_extension": ".py",
   "mimetype": "text/x-python",
   "name": "python",
   "nbconvert_exporter": "python",
   "pygments_lexer": "ipython3",
   "version": "3.7.4"
  }
 },
 "nbformat": 4,
 "nbformat_minor": 2
}
