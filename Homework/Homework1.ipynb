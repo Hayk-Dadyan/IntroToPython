{
 "cells": [
  {
   "cell_type": "code",
   "execution_count": 25,
   "metadata": {},
   "outputs": [
    {
     "name": "stdout",
     "output_type": "stream",
     "text": [
      "Ingredients don't contains apples.\n",
      "Ingredients contains butter.\n",
      "Ingredients contains or eggs or margarine.\n",
      "Ingredients don't contains both eggs and margarine.\n",
      "<class 'int'>\n",
      "<class 'int'>\n",
      "<class 'str'>\n",
      "<class 'int'>\n",
      "<class 'str'>\n",
      "<class 'float'>\n",
      "Flour: 175\n",
      "Butter: 175\n",
      "Sugar: 100g\n",
      "Eggs: 2\n",
      "Cocoa powder: 1ts\n",
      "Baking powder: 0.5\n"
     ]
    }
   ],
   "source": [
    "#Problem1\n",
    "project = \"cake\"\n",
    "difficulty = 5\n",
    "ingredients = [\"flour\",\"butter\",\"sugar\",\"eggs\",\"cocoa powder\",\"baking powder\"]\n",
    "if 'apples' in ingredients:\n",
    "    print(\"Ingredients contains apples.\")\n",
    "else:\n",
    "    print(\"Ingredients don't contains apples.\")\n",
    "if 'butter' in ingredients:\n",
    "    print(\"Ingredients contains butter.\")\n",
    "else:\n",
    "    print(\"Ingredients don't contains butter.\")\n",
    "if 'eggs' or 'margarine' in ingredients:\n",
    "    print (\"Ingredients contains or eggs or margarine.\")\n",
    "else:\n",
    "    print(\"Ingredients don't contains eggs or margarine.\")\n",
    "if 'eggs' and 'margarine' in ingredients:\n",
    "    print (\"Ingredients contains eggs and margarine.\")\n",
    "else:\n",
    "    print(\"Ingredients don't contains both eggs and margarine.\")\n",
    "    flour = 175\n",
    "    butter = 175\n",
    "    sugar = \"100g\"\n",
    "    eggs = 2\n",
    "    cocoa_powder = \"1ts\"\n",
    "    baking_powder = 0.5\n",
    "    print(type(flour))\n",
    "    print(type(butter))\n",
    "    print(type(sugar))\n",
    "    print(type(eggs))\n",
    "    print(type(cocoa_powder))\n",
    "    print(type(baking_powder))\n",
    "    print(\"Flour:\",flour)\n",
    "    print(\"Butter:\",butter)\n",
    "    print(\"Sugar:\",sugar)\n",
    "    print(\"Eggs:\",eggs)\n",
    "    print(\"Cocoa powder:\",cocoa_powder)\n",
    "    print(\"Baking powder:\",baking_powder)"
   ]
  },
  {
   "cell_type": "code",
   "execution_count": 2,
   "metadata": {},
   "outputs": [
    {
     "name": "stdout",
     "output_type": "stream",
     "text": [
      "1003.0\n",
      "852\n"
     ]
    }
   ],
   "source": [
    "#Problem3\n",
    "a = 15\n",
    "b = 8\n",
    "c = 2\n",
    "print(5*a**2-a*b+(a%2)-a/5)\n",
    "print(b**3+3*a*b-10*c)"
   ]
  },
  {
   "cell_type": "code",
   "execution_count": 13,
   "metadata": {},
   "outputs": [
    {
     "name": "stdout",
     "output_type": "stream",
     "text": [
      "Type any number:545621\n",
      "Number is odd.\n"
     ]
    }
   ],
   "source": [
    "number = int(input(\"Type any number:\"))\n",
    "if number%2 == 1:\n",
    "    print(\"Number is odd.\")\n",
    "else:\n",
    "    print(\"Number is even.\")"
   ]
  },
  {
   "cell_type": "code",
   "execution_count": null,
   "metadata": {},
   "outputs": [],
   "source": []
  }
 ],
 "metadata": {
  "kernelspec": {
   "display_name": "Python 3",
   "language": "python",
   "name": "python3"
  },
  "language_info": {
   "codemirror_mode": {
    "name": "ipython",
    "version": 3
   },
   "file_extension": ".py",
   "mimetype": "text/x-python",
   "name": "python",
   "nbconvert_exporter": "python",
   "pygments_lexer": "ipython3",
   "version": "3.7.4"
  }
 },
 "nbformat": 4,
 "nbformat_minor": 2
}
