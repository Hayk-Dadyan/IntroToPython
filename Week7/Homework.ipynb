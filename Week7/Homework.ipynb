{
 "cells": [
  {
   "cell_type": "code",
   "execution_count": 1,
   "metadata": {},
   "outputs": [
    {
     "ename": "ModuleNotFoundError",
     "evalue": "No module named 'something'",
     "output_type": "error",
     "traceback": [
      "\u001b[1;31m---------------------------------------------------------------------------\u001b[0m",
      "\u001b[1;31mModuleNotFoundError\u001b[0m                       Traceback (most recent call last)",
      "\u001b[1;32m<ipython-input-1-7dc7c3630b3b>\u001b[0m in \u001b[0;36m<module>\u001b[1;34m\u001b[0m\n\u001b[0;32m      1\u001b[0m \u001b[1;31m#Problem 1\u001b[0m\u001b[1;33m\u001b[0m\u001b[1;33m\u001b[0m\u001b[1;33m\u001b[0m\u001b[0m\n\u001b[1;32m----> 2\u001b[1;33m \u001b[1;32mimport\u001b[0m \u001b[0msomething\u001b[0m\u001b[1;33m\u001b[0m\u001b[1;33m\u001b[0m\u001b[0m\n\u001b[0m",
      "\u001b[1;31mModuleNotFoundError\u001b[0m: No module named 'something'"
     ]
    }
   ],
   "source": [
    "#Problem 1\n",
    "import something"
   ]
  },
  {
   "cell_type": "code",
   "execution_count": 2,
   "metadata": {},
   "outputs": [
    {
     "name": "stdout",
     "output_type": "stream",
     "text": [
      "Module not found.\n"
     ]
    }
   ],
   "source": [
    "try:\n",
    "    import something\n",
    "except ModuleNotFoundError:\n",
    "    print('Module not found.')"
   ]
  },
  {
   "cell_type": "code",
   "execution_count": 3,
   "metadata": {},
   "outputs": [
    {
     "name": "stdout",
     "output_type": "stream",
     "text": [
      "2.0\n"
     ]
    },
    {
     "ename": "AssertionError",
     "evalue": "Can't divide.",
     "output_type": "error",
     "traceback": [
      "\u001b[1;31m---------------------------------------------------------------------------\u001b[0m",
      "\u001b[1;31mAssertionError\u001b[0m                            Traceback (most recent call last)",
      "\u001b[1;32m<ipython-input-3-f9339e1a57f0>\u001b[0m in \u001b[0;36m<module>\u001b[1;34m\u001b[0m\n\u001b[0;32m      4\u001b[0m     \u001b[1;32mreturn\u001b[0m \u001b[0mx\u001b[0m \u001b[1;33m/\u001b[0m \u001b[0my\u001b[0m\u001b[1;33m\u001b[0m\u001b[1;33m\u001b[0m\u001b[0m\n\u001b[0;32m      5\u001b[0m \u001b[0mprint\u001b[0m\u001b[1;33m(\u001b[0m\u001b[0mdiv\u001b[0m\u001b[1;33m(\u001b[0m\u001b[1;36m8\u001b[0m\u001b[1;33m,\u001b[0m\u001b[1;36m4\u001b[0m\u001b[1;33m)\u001b[0m\u001b[1;33m)\u001b[0m\u001b[1;33m\u001b[0m\u001b[1;33m\u001b[0m\u001b[0m\n\u001b[1;32m----> 6\u001b[1;33m \u001b[0mdiv\u001b[0m\u001b[1;33m(\u001b[0m\u001b[1;36m7\u001b[0m\u001b[1;33m,\u001b[0m\u001b[1;36m0\u001b[0m\u001b[1;33m)\u001b[0m\u001b[1;33m\u001b[0m\u001b[1;33m\u001b[0m\u001b[0m\n\u001b[0m",
      "\u001b[1;32m<ipython-input-3-f9339e1a57f0>\u001b[0m in \u001b[0;36mdiv\u001b[1;34m(x, y)\u001b[0m\n\u001b[0;32m      1\u001b[0m \u001b[1;31m#Problem 2\u001b[0m\u001b[1;33m\u001b[0m\u001b[1;33m\u001b[0m\u001b[1;33m\u001b[0m\u001b[0m\n\u001b[0;32m      2\u001b[0m \u001b[1;32mdef\u001b[0m \u001b[0mdiv\u001b[0m\u001b[1;33m(\u001b[0m\u001b[0mx\u001b[0m\u001b[1;33m,\u001b[0m \u001b[0my\u001b[0m\u001b[1;33m)\u001b[0m\u001b[1;33m:\u001b[0m\u001b[1;33m\u001b[0m\u001b[1;33m\u001b[0m\u001b[0m\n\u001b[1;32m----> 3\u001b[1;33m     \u001b[1;32massert\u001b[0m \u001b[0my\u001b[0m\u001b[1;33m!=\u001b[0m\u001b[1;36m0\u001b[0m\u001b[1;33m,\u001b[0m \u001b[1;34m'Can\\'t divide.'\u001b[0m\u001b[1;33m\u001b[0m\u001b[1;33m\u001b[0m\u001b[0m\n\u001b[0m\u001b[0;32m      4\u001b[0m     \u001b[1;32mreturn\u001b[0m \u001b[0mx\u001b[0m \u001b[1;33m/\u001b[0m \u001b[0my\u001b[0m\u001b[1;33m\u001b[0m\u001b[1;33m\u001b[0m\u001b[0m\n\u001b[0;32m      5\u001b[0m \u001b[0mprint\u001b[0m\u001b[1;33m(\u001b[0m\u001b[0mdiv\u001b[0m\u001b[1;33m(\u001b[0m\u001b[1;36m8\u001b[0m\u001b[1;33m,\u001b[0m\u001b[1;36m4\u001b[0m\u001b[1;33m)\u001b[0m\u001b[1;33m)\u001b[0m\u001b[1;33m\u001b[0m\u001b[1;33m\u001b[0m\u001b[0m\n",
      "\u001b[1;31mAssertionError\u001b[0m: Can't divide."
     ]
    }
   ],
   "source": [
    "#Problem 2\n",
    "def div(x, y):\n",
    "    assert y!=0, 'Can\\'t divide.'\n",
    "    return x / y\n",
    "print(div(8,4))\n",
    "div(7,0)"
   ]
  },
  {
   "cell_type": "code",
   "execution_count": 4,
   "metadata": {},
   "outputs": [
    {
     "name": "stdout",
     "output_type": "stream",
     "text": [
      "List index out of range.\n",
      "sumOfPairs =  [17, 50, 56, 97, 90, 10, 17, 82]\n"
     ]
    }
   ],
   "source": [
    "#Problem 3\n",
    "def example_func(my_list: list):\n",
    "    my_sum = 0\n",
    "    sum_of_pairs = []\n",
    "    \n",
    "    for i in range(len(my_list)):\n",
    "        try:\n",
    "            sum_of_pairs.append(my_list[i] + my_list[i+1])\n",
    "        except Exception:\n",
    "            print('List index out of range.')\n",
    "    print('sumOfPairs = ', sum_of_pairs)\n",
    "    \n",
    "example_func([8, 9, 41, 15, 82, 8, 2, 15, 67])\n",
    "# Chgitem, chisht em haskacel xndiry)).???"
   ]
  },
  {
   "cell_type": "code",
   "execution_count": 5,
   "metadata": {},
   "outputs": [
    {
     "name": "stdout",
     "output_type": "stream",
     "text": [
      "HOW ARE YOU?\n",
      "File not found.\n"
     ]
    }
   ],
   "source": [
    "#Problem 4\n",
    "def UpperContent(Textfile):\n",
    "    try:\n",
    "        myfile = open(Textfile, 'r')\n",
    "        for line in myfile:\n",
    "            print(line.upper())\n",
    "        myfile.close()\n",
    "    except Exception:\n",
    "        print('File not found.')\n",
    "UpperContent('Textfile.txt')\n",
    "UpperContent('Text.txt')"
   ]
  },
  {
   "cell_type": "code",
   "execution_count": 6,
   "metadata": {},
   "outputs": [
    {
     "name": "stdout",
     "output_type": "stream",
     "text": [
      "[[ 6  2  3  1  8]\n",
      " [10  1  7  8  2]\n",
      " [ 4  4  1  8  8]]\n"
     ]
    }
   ],
   "source": [
    "#Problem 5\n",
    "import numpy as np\n",
    "x = np.random.randint(1, 11, (3, 5))\n",
    "print(x)"
   ]
  },
  {
   "cell_type": "code",
   "execution_count": 7,
   "metadata": {},
   "outputs": [
    {
     "name": "stdout",
     "output_type": "stream",
     "text": [
      "[0 0 0 0 5 0 0 0 0 0]\n"
     ]
    }
   ],
   "source": [
    "#Problem 6\n",
    "x = np.zeros(10, dtype = int)\n",
    "x[4] = 5\n",
    "print(x)"
   ]
  },
  {
   "cell_type": "code",
   "execution_count": 8,
   "metadata": {},
   "outputs": [
    {
     "name": "stdout",
     "output_type": "stream",
     "text": [
      "[ 3  4  5  6  7  8  9 10 11 12 13 14]\n"
     ]
    }
   ],
   "source": [
    "#Problem 7\n",
    "x = np.arange(3, 15)\n",
    "print(x)"
   ]
  },
  {
   "cell_type": "code",
   "execution_count": 9,
   "metadata": {},
   "outputs": [
    {
     "name": "stdout",
     "output_type": "stream",
     "text": [
      "[[1 3]\n",
      " [5 2]\n",
      " [4 5]]\n",
      "\n",
      "\n",
      "[[1 3 5]\n",
      " [2 4 5]]\n"
     ]
    }
   ],
   "source": [
    "#Problem 8\n",
    "x = np.array([1, 3, 5, 2, 4, 5])\n",
    "y = x.reshape(3, 2)\n",
    "z = x.reshape(2, 3)\n",
    "print(y)\n",
    "print('\\n')\n",
    "print(z)"
   ]
  },
  {
   "cell_type": "code",
   "execution_count": 27,
   "metadata": {},
   "outputs": [
    {
     "name": "stdout",
     "output_type": "stream",
     "text": [
      "[ 1.25  8.    1.    3.25  0.5  12.75  2.75  2.    1.75]\n"
     ]
    }
   ],
   "source": [
    "#Problem 9\n",
    "def func(array1):\n",
    "    while array1.mean()>5:\n",
    "        array1 = array1 / 2\n",
    "    else:\n",
    "        print(array1)\n",
    "        \n",
    "    \n",
    "array1 = np.array([5, 32, 4, 13, 2, 51, 11, 8, 7])\n",
    "func(array1)"
   ]
  },
  {
   "cell_type": "code",
   "execution_count": 24,
   "metadata": {},
   "outputs": [
    {
     "name": "stdout",
     "output_type": "stream",
     "text": [
      "[[5 7 7 1]\n",
      " [8 2 9 6]\n",
      " [8 7 2 8]\n",
      " [5 2 5 7]\n",
      " [6 1 1 8]] \n",
      "\n",
      "COLUMNS:  \n",
      "\n",
      "[5 8 8 5 6]\n",
      "[7 2 7 2 1]\n",
      "[7 9 2 5 1]\n",
      "[1 6 8 7 8]\n",
      "\n",
      " ROWS:  \n",
      "\n",
      "[5 7 7 1]\n",
      "[8 2 9 6]\n",
      "[8 7 2 8]\n",
      "[5 2 5 7]\n",
      "[6 1 1 8]\n"
     ]
    }
   ],
   "source": [
    "#Problem 10\n",
    "def func1(array):\n",
    "    print(array[...,0])\n",
    "    print(array[...,1])\n",
    "    print(array[...,2])\n",
    "    print(array[...,3])\n",
    "def func2(array):\n",
    "    print(array[0,...])\n",
    "    print(array[1,...])\n",
    "    print(array[2,...])\n",
    "    print(array[3,...])\n",
    "    print(array[4,...])\n",
    "\n",
    "array = np.random.randint(1, 11, (5, 4))\n",
    "print(array, '\\n')\n",
    "print('COLUMNS: ', '\\n')\n",
    "func1(array)\n",
    "print('\\n', 'ROWS: ', '\\n')\n",
    "func2(array)"
   ]
  }
 ],
 "metadata": {
  "kernelspec": {
   "display_name": "Python 3",
   "language": "python",
   "name": "python3"
  },
  "language_info": {
   "codemirror_mode": {
    "name": "ipython",
    "version": 3
   },
   "file_extension": ".py",
   "mimetype": "text/x-python",
   "name": "python",
   "nbconvert_exporter": "python",
   "pygments_lexer": "ipython3",
   "version": "3.7.4"
  }
 },
 "nbformat": 4,
 "nbformat_minor": 2
}
