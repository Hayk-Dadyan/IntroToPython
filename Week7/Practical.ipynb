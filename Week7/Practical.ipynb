{
 "cells": [
  {
   "cell_type": "code",
   "execution_count": 5,
   "metadata": {},
   "outputs": [],
   "source": [
    "#ASSERTIONS"
   ]
  },
  {
   "cell_type": "code",
   "execution_count": 6,
   "metadata": {},
   "outputs": [
    {
     "name": "stdout",
     "output_type": "stream",
     "text": [
      "I won't wake you up today!\n"
     ]
    }
   ],
   "source": [
    "#Problem 1\n",
    "def Alarm(day):\n",
    "    assert day == 'Sunday', 'Wake UP!'\n",
    "    print('I won\\'t wake you up today!')\n",
    "Alarm('Sunday')"
   ]
  },
  {
   "cell_type": "code",
   "execution_count": 7,
   "metadata": {},
   "outputs": [
    {
     "data": {
      "text/plain": [
       "12"
      ]
     },
     "execution_count": 7,
     "metadata": {},
     "output_type": "execute_result"
    }
   ],
   "source": [
    "#Problem 2\n",
    "def sum(x, y):\n",
    "    assert isinstance(x, int) & isinstance(y, int), 'Argument of type int required.'\n",
    "    return x + y\n",
    "\n",
    "sum (7, 5)"
   ]
  },
  {
   "cell_type": "code",
   "execution_count": 8,
   "metadata": {},
   "outputs": [],
   "source": [
    "#EXCEPTIONS"
   ]
  },
  {
   "cell_type": "code",
   "execution_count": 9,
   "metadata": {},
   "outputs": [
    {
     "name": "stdout",
     "output_type": "stream",
     "text": [
      "2.0\n",
      "y can't be 0.\n"
     ]
    }
   ],
   "source": [
    "#Problem 1\n",
    "def div(x, y):\n",
    "    try:\n",
    "        return x/y\n",
    "    except Exception:\n",
    "        print('y can\\'t be 0.')\n",
    "print(div(8,4))\n",
    "div(9,0)"
   ]
  },
  {
   "cell_type": "code",
   "execution_count": 10,
   "metadata": {},
   "outputs": [
    {
     "name": "stdout",
     "output_type": "stream",
     "text": [
      "2.0\n",
      "y can't be 0.\n",
      "Something is wrong.\n"
     ]
    }
   ],
   "source": [
    "#Problem 2\n",
    "def div(x, y):\n",
    "    try:\n",
    "        return x/y\n",
    "    except ArithmeticError:\n",
    "        print('y can\\'t be 0.')\n",
    "    except Exception:\n",
    "        print('Something is wrong.')\n",
    "print(div(8,4))\n",
    "div(9,0)\n",
    "div(9,'0')"
   ]
  },
  {
   "cell_type": "code",
   "execution_count": 11,
   "metadata": {},
   "outputs": [
    {
     "name": "stdout",
     "output_type": "stream",
     "text": [
      "The entry is: a\n",
      "Oops! Wrong type!\n",
      "The entry is: 0\n",
      "Oops! Zero division!\n",
      "The entry is: 2\n",
      "0.5\n"
     ]
    }
   ],
   "source": [
    "#Problem 3\n",
    "list1 = ['a', 0, 2]\n",
    "for i in list1:\n",
    "    print('The entry is:', i)\n",
    "    try:\n",
    "        print(1/i)\n",
    "    except TypeError:\n",
    "        print('Oops! Wrong type!')\n",
    "    except ZeroDivisionError:\n",
    "        print('Oops! Zero division!')"
   ]
  },
  {
   "cell_type": "code",
   "execution_count": 12,
   "metadata": {},
   "outputs": [
    {
     "name": "stdout",
     "output_type": "stream",
     "text": [
      "Input: Rambo\n",
      "Rambo is an invalid username.\n"
     ]
    }
   ],
   "source": [
    "#Problem 4\n",
    "username = input('Input: ')\n",
    "try:\n",
    "    if username != 'Rambo':\n",
    "        print('Welcome %s.' % username)\n",
    "    else:\n",
    "        raise Exception\n",
    "except Exception:\n",
    "        print('Rambo is an invalid username.')"
   ]
  },
  {
   "cell_type": "code",
   "execution_count": 13,
   "metadata": {},
   "outputs": [
    {
     "name": "stdout",
     "output_type": "stream",
     "text": [
      "returning the value.\n"
     ]
    },
    {
     "data": {
      "text/plain": [
       "15"
      ]
     },
     "execution_count": 13,
     "metadata": {},
     "output_type": "execute_result"
    }
   ],
   "source": [
    "#Problem 5\n",
    "def get_value(data_list: list, index: int):\n",
    "    try:\n",
    "        if type(data_list) is not list:\n",
    "            raise Exception('Datalist is not of type list.')\n",
    "        elif type(index) is not int:\n",
    "            raise Exception('Index is not of type int.')\n",
    "        else:\n",
    "            print('returning the value.')\n",
    "            result = data_list[index]\n",
    "            return result\n",
    "    except Exception as e:\n",
    "        print(e)\n",
    "\n",
    "get_value([7, 4, 23, 15, 4, 8, 1, 26], 3)"
   ]
  },
  {
   "cell_type": "code",
   "execution_count": 14,
   "metadata": {},
   "outputs": [
    {
     "name": "stdout",
     "output_type": "stream",
     "text": [
      "Please enter your age: 19\n",
      "I see that you are 19 years old.\n"
     ]
    }
   ],
   "source": [
    "#Problem 6\n",
    "def YourAge():\n",
    "    try:\n",
    "        age = int(input('Please enter your age: '))\n",
    "        print('I see that you are %d years old.' % age)\n",
    "    except Exception:\n",
    "        print('Type error.')\n",
    "YourAge()"
   ]
  },
  {
   "cell_type": "code",
   "execution_count": null,
   "metadata": {},
   "outputs": [],
   "source": []
  }
 ],
 "metadata": {
  "kernelspec": {
   "display_name": "Python 3",
   "language": "python",
   "name": "python3"
  },
  "language_info": {
   "codemirror_mode": {
    "name": "ipython",
    "version": 3
   },
   "file_extension": ".py",
   "mimetype": "text/x-python",
   "name": "python",
   "nbconvert_exporter": "python",
   "pygments_lexer": "ipython3",
   "version": "3.7.4"
  }
 },
 "nbformat": 4,
 "nbformat_minor": 2
}
