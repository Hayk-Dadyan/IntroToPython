{
 "cells": [
  {
   "cell_type": "code",
   "execution_count": 1,
   "metadata": {},
   "outputs": [
    {
     "data": {
      "text/plain": [
       "4"
      ]
     },
     "execution_count": 1,
     "metadata": {},
     "output_type": "execute_result"
    }
   ],
   "source": [
    "#Problem 1\n",
    "def mijin(a, b, c):\n",
    "    if a<b<c or c<b<a:\n",
    "        return b\n",
    "    if b<a<c or c<a<b:\n",
    "        return a\n",
    "    if a<c<b or b<c<a:\n",
    "        return c\n",
    "mijin(7,4,2)"
   ]
  },
  {
   "cell_type": "code",
   "execution_count": 2,
   "metadata": {},
   "outputs": [
    {
     "name": "stdout",
     "output_type": "stream",
     "text": [
      "6\n",
      "2\n",
      "22\n",
      "42\n"
     ]
    }
   ],
   "source": [
    "#Problem 2\n",
    "def zuyg(*args):\n",
    "    for i in args :\n",
    "        if i%2 == 0:\n",
    "            print(i)\n",
    "zuyg(6, 2, 7, 3, 55, 22 ,42)"
   ]
  },
  {
   "cell_type": "code",
   "execution_count": 3,
   "metadata": {},
   "outputs": [
    {
     "data": {
      "text/plain": [
       "True"
      ]
     },
     "execution_count": 3,
     "metadata": {},
     "output_type": "execute_result"
    }
   ],
   "source": [
    "#Problem 3\n",
    "def pw(password):\n",
    "    if (len(password)>9) and (len([x for x in password if x.isdigit()])>1):\n",
    "        return True\n",
    "    else:\n",
    "        return False\n",
    "pw('connection12')"
   ]
  },
  {
   "cell_type": "code",
   "execution_count": 4,
   "metadata": {},
   "outputs": [
    {
     "name": "stdout",
     "output_type": "stream",
     "text": [
      "John, welcome to our company!\n"
     ]
    }
   ],
   "source": [
    "#Problem 4\n",
    "def ng(name, greeting = 'welcome to our company!'):\n",
    "    print(name, greeting)\n",
    "ng('John,')"
   ]
  },
  {
   "cell_type": "code",
   "execution_count": 5,
   "metadata": {},
   "outputs": [
    {
     "name": "stdout",
     "output_type": "stream",
     "text": [
      "John your average grade is 6.0\n"
     ]
    }
   ],
   "source": [
    "#Problem 5\n",
    "def averagevalue(name, *args):\n",
    "        if args:\n",
    "            print(name, 'your average grade is '+ str(sum(args)/len(args)))\n",
    "        else:\n",
    "            print('No grades for %s.' % name)\n",
    "averagevalue('John', 7, 3, 8, 6)"
   ]
  },
  {
   "cell_type": "code",
   "execution_count": 6,
   "metadata": {},
   "outputs": [
    {
     "name": "stdout",
     "output_type": "stream",
     "text": [
      "key: name1 , value: Arman\n",
      "key: last_name , value: Petrosyan\n",
      "key: name2 , value: Tigran\n",
      "key: last_name2 , value: Vardanyan\n"
     ]
    }
   ],
   "source": [
    "#Problem 6\n",
    "def us(user, **kwargs):\n",
    "    if user == 'admin':\n",
    "        for name, value in kwargs.items():\n",
    "            print('key:', name, ', value:', value)\n",
    "    else:\n",
    "        print('access denied to user %s' % user )\n",
    "us('admin', name1 = 'Arman', last_name = 'Petrosyan',name2 = 'Tigran', last_name2 = 'Vardanyan')"
   ]
  },
  {
   "cell_type": "code",
   "execution_count": null,
   "metadata": {},
   "outputs": [],
   "source": []
  }
 ],
 "metadata": {
  "kernelspec": {
   "display_name": "Python 3",
   "language": "python",
   "name": "python3"
  },
  "language_info": {
   "codemirror_mode": {
    "name": "ipython",
    "version": 3
   },
   "file_extension": ".py",
   "mimetype": "text/x-python",
   "name": "python",
   "nbconvert_exporter": "python",
   "pygments_lexer": "ipython3",
   "version": "3.7.4"
  }
 },
 "nbformat": 4,
 "nbformat_minor": 2
}
