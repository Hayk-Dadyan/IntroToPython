{
 "cells": [
  {
   "cell_type": "code",
   "execution_count": 73,
   "metadata": {},
   "outputs": [
    {
     "data": {
      "text/plain": [
       "28"
      ]
     },
     "execution_count": 73,
     "metadata": {},
     "output_type": "execute_result"
    }
   ],
   "source": [
    "#Problem 1\n",
    "\n",
    "def my_max(*args):\n",
    "    x = 0\n",
    "    for i in args:\n",
    "        if i>x:\n",
    "            x = i\n",
    "    if x == 0:\n",
    "        print('no numbers given.')\n",
    "    else:\n",
    "        return x\n",
    "my_max(3, 8, 21, 17, 9, 28, 4, 11)"
   ]
  },
  {
   "cell_type": "code",
   "execution_count": 28,
   "metadata": {},
   "outputs": [
    {
     "name": "stdout",
     "output_type": "stream",
     "text": [
      "[4, 9, 8, 2]\n"
     ]
    }
   ],
   "source": [
    "#Problem 2\n",
    "def chkrknvox(list1):\n",
    "    list2 = [ ]\n",
    "    for i in list1:\n",
    "        if i not in list2:\n",
    "            list2.append(i)\n",
    "    print(list2)\n",
    "      \n",
    "chkrknvox([4, 9, 4, 8, 9, 2, 8])"
   ]
  },
  {
   "cell_type": "code",
   "execution_count": 1,
   "metadata": {},
   "outputs": [
    {
     "data": {
      "text/plain": [
       "3"
      ]
     },
     "execution_count": 1,
     "metadata": {},
     "output_type": "execute_result"
    }
   ],
   "source": [
    "#Problem 3\n",
    "def my_fib(n):\n",
    "    x=0\n",
    "    y=1\n",
    "    if n == 1:\n",
    "        return 0\n",
    "    elif n == 2:\n",
    "        return 1\n",
    "    else:\n",
    "        r = range(3, n+1)\n",
    "        for i in r:\n",
    "            z = x + y\n",
    "            x = y\n",
    "            y = z\n",
    "        return z\n",
    "my_fib(5)"
   ]
  },
  {
   "cell_type": "code",
   "execution_count": 7,
   "metadata": {},
   "outputs": [
    {
     "name": "stdout",
     "output_type": "stream",
     "text": [
      "Old list: [3, 6, 13, 2, 31, 5, 17, 8]\n",
      "New list: [13, 16, 3, 12, 21, 15, 7, 18]\n"
     ]
    }
   ],
   "source": [
    "#Problem 4\n",
    "list1 = [3, 6, 13, 2, 31, 5, 17, 8]\n",
    "def my_func(n):\n",
    "    if n<10:\n",
    "        return n+10\n",
    "    else:\n",
    "        return n-10\n",
    "y = [my_func(i) for i in list1]\n",
    "f1 = map(my_func, list1)\n",
    "print('Old list:', list1)\n",
    "print('New list:', y)"
   ]
  },
  {
   "cell_type": "code",
   "execution_count": null,
   "metadata": {},
   "outputs": [],
   "source": []
  }
 ],
 "metadata": {
  "kernelspec": {
   "display_name": "Python 3",
   "language": "python",
   "name": "python3"
  },
  "language_info": {
   "codemirror_mode": {
    "name": "ipython",
    "version": 3
   },
   "file_extension": ".py",
   "mimetype": "text/x-python",
   "name": "python",
   "nbconvert_exporter": "python",
   "pygments_lexer": "ipython3",
   "version": "3.7.4"
  }
 },
 "nbformat": 4,
 "nbformat_minor": 2
}
