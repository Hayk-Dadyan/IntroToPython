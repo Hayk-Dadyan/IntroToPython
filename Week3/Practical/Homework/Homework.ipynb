{
 "cells": [
  {
   "cell_type": "code",
   "execution_count": 31,
   "metadata": {},
   "outputs": [
    {
     "name": "stdout",
     "output_type": "stream",
     "text": [
      "3rd andam: 5\n",
      "5rd andam: 8\n",
      "List a: [1, 4, 5, 7, 8, -2, 0, 1]\n",
      "Sorted from low to high: [-2, 0, 1, 1, 4, 5, 7, 8]\n",
      "1...3 andamner: [-2, 0, 1]\n",
      "2...6 andamner: [0, 1, 1, 4, 5]\n",
      "2 and 3 popped: [-2, 0, 1, 5, 7, 8]\n",
      "List b: ['grapes', 'Potatoes', 'tomatoes', 'Orange', 'Lemon', 'Broccoli', 'Carrot', 'Sausages']\n",
      "Sorted from high to low: ['tomatoes', 'grapes', 'Sausages', 'Potatoes', 'Orange', 'Lemon', 'Carrot', 'Broccoli']\n",
      "List c: [1, 4, 5, 'Orange', 'Lemon', 'Broccoli']\n"
     ]
    }
   ],
   "source": [
    "#LISTS\n",
    "a = [1, 4, 5, 7, 8, -2, 0, 1]\n",
    "a_sorted = a.copy()\n",
    "a_sorted.sort()\n",
    "print('3rd andam:', a[2])\n",
    "print('5rd andam:', a[4])\n",
    "print('List a:', a)\n",
    "print('Sorted from low to high:', a_sorted)\n",
    "print('1...3 andamner:', a_sorted[0:3])\n",
    "print('2...6 andamner:', a_sorted[1:6])\n",
    "a_sorted.pop(2)\n",
    "a_sorted.pop(3)\n",
    "print('2 and 3 popped:', a_sorted)\n",
    "b = ['grapes', 'Potatoes','tomatoes', 'Orange', 'Lemon', 'Broccoli', 'Carrot', 'Sausages']\n",
    "b_sorted = b.copy()\n",
    "b_sorted.sort(reverse = True)\n",
    "print('List b:', b)\n",
    "print('Sorted from high to low:', b_sorted)\n",
    "c = a[0:3] + b[3:6]\n",
    "print('List c:', c)"
   ]
  },
  {
   "cell_type": "code",
   "execution_count": 47,
   "metadata": {},
   "outputs": [
    {
     "name": "stdout",
     "output_type": "stream",
     "text": [
      "A1 converted to set: {False, True, 'Chocolate', 8, 'Cookies', -5, -3}\n",
      "B1 converted to set: {False, True, 'Chocolate', 8, 10, 14, 'Milk', 'Jelly'}\n",
      "Union of A and B: {False, True, 'Chocolate', 8, 10, 14, 'Milk', 'Cookies', 'Jelly', -5, -3}\n",
      "Intersection of A and B: {False, True, 'Chocolate', 8}\n",
      "Union + Kit-Kat, Oreo: {False, True, 'Oreo', 'Kit-Kat', 'Chocolate', 8, 10, 14, 'Milk', 'Cookies', 'Jelly', -5, -3}\n",
      "Union OR Intersection: {False, True, 'Oreo', 'Kit-Kat', 'Chocolate', 8, 10, 14, 'Milk', 'Cookies', 'Jelly', -5, -3}\n",
      "New set - Oreo: {False, True, 'Kit-Kat', 'Chocolate', 8, 10, 14, 'Milk', 'Cookies', 'Jelly', -5, -3}\n"
     ]
    }
   ],
   "source": [
    "#SETS\n",
    "a1 = ['Cookies', 'Chocolate',8, True, -3, -5, 'Chocolate', 8, False, 8]\n",
    "b1 = [8, True, 10, 14,'Chocolate', 'Milk', 'Jelly', True, False, True]\n",
    "set_a = set(a1)\n",
    "set_b = set(b1)\n",
    "print('A1 converted to set:', set_a)\n",
    "print('B1 converted to set:', set_b)\n",
    "union_ab = set_a.union(set_b)\n",
    "intersection_ab = set_a.intersection(set_b)\n",
    "print('Union of A and B:', union_ab)\n",
    "print('Intersection of A and B:', intersection_ab)\n",
    "union_ab.add('Kit-Kat')\n",
    "union_ab.add('Oreo')\n",
    "print('Union + Kit-Kat, Oreo:', union_ab)\n",
    "new_set = union_ab | intersection_ab\n",
    "print('Union OR Intersection:', new_set)\n",
    "'Chocolate' in new_set\n",
    "new_set.discard('Oreo')\n",
    "print('New set - Oreo:', new_set)"
   ]
  },
  {
   "cell_type": "code",
   "execution_count": 64,
   "metadata": {},
   "outputs": [
    {
     "name": "stdout",
     "output_type": "stream",
     "text": [
      "'True' deleted: (1, 'a', -2, 'Anna')\n",
      "T3 tupple: (1, True, 1, 2, 3)\n",
      "T3's 2nd index value: 1\n",
      "3\n"
     ]
    }
   ],
   "source": [
    "#TUPLES\n",
    "t1 = (1, True, 'a', -2, 'Anna')\n",
    "x = t1[:1] + t1[2:]\n",
    "print('\\'True\\' deleted:', x)\n",
    "t2 = (1, 2, 3, 4, 5)\n",
    "t3 = t1[:2] + t2[0:3]\n",
    "print('T3 tupple:', t3)\n",
    "print('T3\\'s 2nd index value:', t3[2])\n",
    "t4 = [(1,3,5), (8,9), ('Anna', 'Bob','Alice')]\n",
    "print(t4[0][1])"
   ]
  },
  {
   "cell_type": "code",
   "execution_count": 88,
   "metadata": {},
   "outputs": [
    {
     "name": "stdout",
     "output_type": "stream",
     "text": [
      "BEFORE: {'dairy': ['yogurt', 'cheese'], 'fruits': ['banana', 'apple', 'orange', 'lemon', 'apple', 'banana', 'banana']}\n",
      "AFTER: {'dairy': ['yogurt', 'cheese'], 'fruits': {'banana', 'orange', 'lemon', 'apple'}, 'candies': ['mars', 'kinder', 'twix']}\n"
     ]
    }
   ],
   "source": [
    "#DICTIONARIES\n",
    "market = {'dairy':['yogurt', 'cheese'], 'fruits': ['banana', 'apple', 'orange', 'lemon', 'apple', 'banana','banana']}\n",
    "print('BEFORE:', market)\n",
    "market['candies'] = ['mars', 'kinder', 'twix']\n",
    "market['fruits'].sort()\n",
    "market['fruits'] = set(market['fruits'])\n",
    "print('AFTER:', market)"
   ]
  },
  {
   "cell_type": "code",
   "execution_count": null,
   "metadata": {},
   "outputs": [],
   "source": []
  }
 ],
 "metadata": {
  "kernelspec": {
   "display_name": "Python 3",
   "language": "python",
   "name": "python3"
  },
  "language_info": {
   "codemirror_mode": {
    "name": "ipython",
    "version": 3
   },
   "file_extension": ".py",
   "mimetype": "text/x-python",
   "name": "python",
   "nbconvert_exporter": "python",
   "pygments_lexer": "ipython3",
   "version": "3.7.4"
  }
 },
 "nbformat": 4,
 "nbformat_minor": 2
}
