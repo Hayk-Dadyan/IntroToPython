{
 "cells": [
  {
   "cell_type": "code",
   "execution_count": 11,
   "metadata": {},
   "outputs": [
    {
     "name": "stdout",
     "output_type": "stream",
     "text": [
      "['hello', 1, True]\n",
      "Input: 55\n",
      "Input: False\n",
      "Input: Bye\n",
      "['hello', 1, True, '55', 'False', 'Bye']\n"
     ]
    }
   ],
   "source": [
    "#Problem 1\n",
    "list1 = [\"hello\", 1, True]\n",
    "print(list1)\n",
    "x = input(\"Input: \")\n",
    "y = input(\"Input: \")\n",
    "z = input(\"Input: \")\n",
    "list1.append(x)\n",
    "list1.append(y)\n",
    "list1.append(z)\n",
    "print(list1)"
   ]
  },
  {
   "cell_type": "code",
   "execution_count": 27,
   "metadata": {},
   "outputs": [
    {
     "name": "stdout",
     "output_type": "stream",
     "text": [
      "Input: Apple\n",
      "Input: 102\n",
      "Input: False\n",
      "Old list: [7, 99, True]\n",
      "New list: [7, 99, True, 'Apple', '102', 'False']\n"
     ]
    }
   ],
   "source": [
    "#Problem 2\n",
    "old_list = [7, 99, True]\n",
    "new_list = old_list.copy()\n",
    "x = input(\"Input: \")\n",
    "y = input(\"Input: \")\n",
    "z = input(\"Input: \")\n",
    "new_list.append(x)\n",
    "new_list.append(y)\n",
    "new_list.append(z)\n",
    "print(\"Old list:\", old_list)\n",
    "print(\"New list:\", new_list)"
   ]
  },
  {
   "cell_type": "code",
   "execution_count": 23,
   "metadata": {},
   "outputs": [
    {
     "name": "stdout",
     "output_type": "stream",
     "text": [
      "1\n",
      "3\n",
      "Hi\n",
      "Number of 1's: 2\n",
      "Number of 3's: 2\n",
      "Number of 'Hi's: 2\n"
     ]
    }
   ],
   "source": [
    "#Problem 3\n",
    "list2 = [1, 2, 3, 3, 1, 'Hi', 'Car', 'Hi', 'Home']\n",
    "x = int(input())\n",
    "y = int(input())\n",
    "z = input()\n",
    "print(\"Number of 1's:\", list2.count(x))\n",
    "print(\"Number of 3's:\",list2.count(y))\n",
    "print(\"Number of 'Hi's:\",list2.count(z))"
   ]
  },
  {
   "cell_type": "code",
   "execution_count": 36,
   "metadata": {},
   "outputs": [
    {
     "name": "stdout",
     "output_type": "stream",
     "text": [
      "Input: Pear\n",
      "Old list: ['Apple', 'Pear', 'Cake', 'Pear']\n",
      "Removed list: ['Apple', 'Cake', 'Pear']\n"
     ]
    }
   ],
   "source": [
    "#Problem 4\n",
    "list4 = ['Apple', 'Pear', 'Cake', 'Pear']\n",
    "x = input('Input: ')\n",
    "print('Old list:', list4)\n",
    "list4.remove(x)\n",
    "print('Removed list:', list4)"
   ]
  },
  {
   "cell_type": "code",
   "execution_count": 77,
   "metadata": {},
   "outputs": [
    {
     "name": "stdout",
     "output_type": "stream",
     "text": [
      "Old list: ['Hi', 1, 2, 3, 'Hello', 'Bye', 6, 7, 8, 9]\n",
      "New list: [1, 2, 3, 6, 7, 8, 9]\n"
     ]
    }
   ],
   "source": [
    "#Problem 5\n",
    "list5 = ['Hi',1,2,3,'Hello','Bye',6,7,8,9]\n",
    "print('Old list:', list5)\n",
    "del (list5[5:6])\n",
    "del (list5[4:5])\n",
    "del (list5[0:1])\n",
    "print('New list:', list5)"
   ]
  },
  {
   "cell_type": "code",
   "execution_count": 131,
   "metadata": {},
   "outputs": [
    {
     "name": "stdout",
     "output_type": "stream",
     "text": [
      "Old list: ['Hi', 1, 2, 3, 'Hello', 'Bye', 6, 7, 8, 9]\n",
      "New list: [1, 2, 3, 6, 7, 8, 9]\n"
     ]
    }
   ],
   "source": [
    "#Problem 6\n",
    "list5 = ['Hi',1,2,3,'Hello','Bye',6,7,8,9]\n",
    "list6 = list5.copy()\n",
    "del (list6[5])\n",
    "del (list6[4])\n",
    "del (list6[0])\n",
    "print('Old list:', list5)\n",
    "print('New list:', list6)"
   ]
  },
  {
   "cell_type": "code",
   "execution_count": 83,
   "metadata": {},
   "outputs": [
    {
     "name": "stdout",
     "output_type": "stream",
     "text": [
      "Old list: ['House', 'Work', 8, True]\n",
      "New list: ['House', 'Work', 8, 'Pen', 32, False]\n"
     ]
    }
   ],
   "source": [
    "#Problem 7\n",
    "l1 = ['House', 'Work', 8, True]\n",
    "l2 = ['Pen', 32, False]\n",
    "print('Old list:', l1)\n",
    "l1[-1:] = l2\n",
    "print('New list:', l1)"
   ]
  },
  {
   "cell_type": "code",
   "execution_count": 88,
   "metadata": {},
   "outputs": [
    {
     "name": "stdout",
     "output_type": "stream",
     "text": [
      "{'Hi', 62, 'Hello', True}\n",
      "Input: False\n",
      "{'Hi', True, 'Hello', 'False', 62}\n"
     ]
    }
   ],
   "source": [
    "#Problem 8\n",
    "set1 = {'Hello', 'Hi', 62, True}\n",
    "print(set1)\n",
    "x = input(\"Input: \")\n",
    "set1.add(x)\n",
    "print(set1)"
   ]
  },
  {
   "cell_type": "code",
   "execution_count": 102,
   "metadata": {},
   "outputs": [
    {
     "name": "stdout",
     "output_type": "stream",
     "text": [
      "Old set: {False, True, 'Hey', 7, 'What', 55, 'How'}\n",
      "Input: What\n",
      "New set: {False, True, 'Hey', 7, 55, 'How'}\n"
     ]
    }
   ],
   "source": [
    "#Problem 9\n",
    "set2 = {'What', False, 'How', 7, 'Hey', 55, True, }\n",
    "print('Old set:', set2)\n",
    "x = input('Input: ')\n",
    "set2.discard(x)\n",
    "print('New set:', set2)"
   ]
  },
  {
   "cell_type": "code",
   "execution_count": 99,
   "metadata": {},
   "outputs": [
    {
     "name": "stdout",
     "output_type": "stream",
     "text": [
      "Old set: {False, True, 'Hey', 7, 'What', 55, 'How'}\n",
      "Input: 86\n",
      "New set: {False, True, 'Hey', 7, 'What', 55, 'How'}\n"
     ]
    }
   ],
   "source": [
    "#Problem 10\n",
    "set2 = {'What', False, 'How', 7, 'Hey', 55, True, }\n",
    "print('Old set:', set2)\n",
    "x = input('Input: ')\n",
    "set2.discard(x)\n",
    "print('New set:', set2)"
   ]
  },
  {
   "cell_type": "code",
   "execution_count": 105,
   "metadata": {},
   "outputs": [
    {
     "name": "stdout",
     "output_type": "stream",
     "text": [
      "Union of sets: {True, 2.7, 'Are', 7, 'New', 'Old', 'Hello', 55}\n",
      "Intersection of sets: {True, 2.7}\n"
     ]
    }
   ],
   "source": [
    "#Problem 11\n",
    "set1 = {'Hello', 7, True, 2.7, 'Are', 'New'}\n",
    "set2 = {2.7, True, 'Old', 55}\n",
    "set3 = set1.union(set2)\n",
    "set4 = set1.intersection(set2)\n",
    "print('Union of sets:', set3)\n",
    "print('Intersection of sets:', set4)"
   ]
  },
  {
   "cell_type": "code",
   "execution_count": 121,
   "metadata": {},
   "outputs": [
    {
     "name": "stdout",
     "output_type": "stream",
     "text": [
      "Input any number: 256\n",
      "TRUE\n"
     ]
    }
   ],
   "source": [
    "#Problem 12\n",
    "set3 = {55, 83, 100, 24, 512}\n",
    "x = int(input('Input any number: '))\n",
    "maximum = max(set3)\n",
    "minimum = min(set3)\n",
    "if minimum < x < maximum:\n",
    "    print('TRUE')\n",
    "else:\n",
    "    print('FALSE')"
   ]
  },
  {
   "cell_type": "code",
   "execution_count": 132,
   "metadata": {},
   "outputs": [
    {
     "name": "stdout",
     "output_type": "stream",
     "text": [
      "4th index: 11\n",
      "-4th index: Hello\n"
     ]
    }
   ],
   "source": [
    "#Problem 13\n",
    "t1 = (5, 7, 'No', True, 11, 612, 'Hello', 'Why', 'Car', 'Hi')\n",
    "print('4th index:', t1[4])\n",
    "print('-4th index:', t1[-4])"
   ]
  },
  {
   "cell_type": "code",
   "execution_count": 136,
   "metadata": {},
   "outputs": [
    {
     "name": "stdout",
     "output_type": "stream",
     "text": [
      "(6, 17, 'What', 555, 'Hello', 'Well', False)\n"
     ]
    }
   ],
   "source": [
    "#Problem 14\n",
    "t2 = (6, 17, 'What', 555, 'Okay', 'Well', False)\n",
    "print(t2[:4] + ('Hello', ) + t2[5:])"
   ]
  },
  {
   "cell_type": "code",
   "execution_count": 139,
   "metadata": {},
   "outputs": [
    {
     "name": "stdout",
     "output_type": "stream",
     "text": [
      "Input Key: key4\n",
      "Input value: Hello\n",
      "{'key1': 123, 'key2': 'Yes', 'key3': 'No'}\n",
      "{'key1': 123, 'key2': 'Yes', 'key3': 'No', 'key4': 'Hello'}\n"
     ]
    }
   ],
   "source": [
    "#Problem 15\n",
    "dict1 = {'key1':123, 'key2':'Yes', 'key3':'No'}\n",
    "x = str(input('Input Key: '))\n",
    "y = str(input('Input value: '))\n",
    "print(dict1)\n",
    "dict1[x] = y\n",
    "print(dict1)"
   ]
  },
  {
   "cell_type": "code",
   "execution_count": 146,
   "metadata": {},
   "outputs": [
    {
     "name": "stdout",
     "output_type": "stream",
     "text": [
      "{1: 'a', 2: 'b', 3: 'c'}\n"
     ]
    }
   ],
   "source": [
    "#Problem 16\n",
    "l1 = [(1,'a'),(2,'b'),(3,'c')]\n",
    "d1 = {l1[0][0]:l1[0][1] , l1[1][0]:l1[1][1] , l1[2][0]:l1[2][1]}\n",
    "print(d1)"
   ]
  },
  {
   "cell_type": "code",
   "execution_count": null,
   "metadata": {},
   "outputs": [],
   "source": []
  }
 ],
 "metadata": {
  "kernelspec": {
   "display_name": "Python 3",
   "language": "python",
   "name": "python3"
  },
  "language_info": {
   "codemirror_mode": {
    "name": "ipython",
    "version": 3
   },
   "file_extension": ".py",
   "mimetype": "text/x-python",
   "name": "python",
   "nbconvert_exporter": "python",
   "pygments_lexer": "ipython3",
   "version": "3.7.4"
  }
 },
 "nbformat": 4,
 "nbformat_minor": 2
}
