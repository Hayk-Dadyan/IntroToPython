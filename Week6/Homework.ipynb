{
 "cells": [
  {
   "cell_type": "code",
   "execution_count": 31,
   "metadata": {},
   "outputs": [
    {
     "name": "stdout",
     "output_type": "stream",
     "text": [
      "Welcome dear Jack.\n",
      "Bye everyone!\n",
      "My favourite number is 5. \n",
      "Reading file:\n",
      "1 2 3 4 5 6 7 8 9 10\n",
      "\n",
      "admin\n"
     ]
    },
    {
     "data": {
      "text/plain": [
       "'ABCD'"
      ]
     },
     "execution_count": 31,
     "metadata": {},
     "output_type": "execute_result"
    }
   ],
   "source": [
    "#Problem 1\n",
    "class Person:\n",
    "    def __init__(self, name, last_name, age, gender, student, password):\n",
    "        self.name = name\n",
    "        self.last_name = last_name\n",
    "        self.age = age\n",
    "        self.gender = gender\n",
    "        self.student = student\n",
    "        self.__password = password\n",
    "    \n",
    "    def Greeting(self, second_person):\n",
    "        print('Welcome dear %s.' % second_person.name)\n",
    "    \n",
    "    def Goodbye(self):\n",
    "        print('Bye everyone!')\n",
    "    \n",
    "    def Favourite_num(self, num1):\n",
    "        print('My favourite number is %s. ' % num1)\n",
    "    \n",
    "    def Read_file(self, filename):\n",
    "        file = filename + '.txt'\n",
    "        x = open(file, 'r')\n",
    "        print(x.read())\n",
    "        \n",
    "    def set_code(self, new_code):\n",
    "        self.__password = new_code\n",
    "    \n",
    "    def get_code(self):\n",
    "        return self.__password\n",
    "\n",
    "second_person = Person('Jack', 'Jones', 25, 'male', True, 'admin')        \n",
    "second_person.Greeting(second_person)\n",
    "second_person.Goodbye()\n",
    "second_person.Favourite_num(5)\n",
    "second_person.Read_file('Numbers')\n",
    "print(second_person._Person__password)\n",
    "second_person.set_code('ABCD')\n",
    "second_person.get_code()"
   ]
  },
  {
   "cell_type": "code",
   "execution_count": 47,
   "metadata": {},
   "outputs": [
    {
     "name": "stdout",
     "output_type": "stream",
     "text": [
      "Multiplication: 15\n",
      "Division:       0.6\n",
      "Addition:       8\n",
      "Substraction:  -2\n"
     ]
    }
   ],
   "source": [
    "#Problem 2\n",
    "class Calculation:\n",
    "    \n",
    "    def __init__(self, x, y):\n",
    "        self.x = x\n",
    "        self.y = y\n",
    "        \n",
    "    def addition(self):\n",
    "        print('Addition:      ', self.x + self.y)\n",
    "    \n",
    "    def substraction(self):\n",
    "        print('Substraction: ', self.x - self.y)\n",
    "        \n",
    "class My_calculation(Calculation):\n",
    "    \n",
    "    def __init__(self, x, y):\n",
    "        Calculation.__init__(self, x, y)\n",
    "    \n",
    "    def multiplication(self):\n",
    "        print('Multiplication:', self.x * self.y)\n",
    "    \n",
    "    def division(self):\n",
    "        print('Division:      ', self.x / self.y)\n",
    "    \n",
    "z = My_calculation(3, 5)\n",
    "z.multiplication()\n",
    "z.division()\n",
    "z.addition()\n",
    "z.substraction()"
   ]
  },
  {
   "cell_type": "code",
   "execution_count": 50,
   "metadata": {},
   "outputs": [
    {
     "name": "stdout",
     "output_type": "stream",
     "text": [
      "The current time is 12 PM\n",
      "The current date is 13.03.2013\n"
     ]
    }
   ],
   "source": [
    "#Problem 3\n",
    "class My_Time:\n",
    "    def __init__ (self, t):\n",
    "        self.t = t\n",
    "        \n",
    "    def printTime(self):\n",
    "        print('The current time is', self.t)\n",
    "    \n",
    "class My_Date:\n",
    "    def __init__(self, d):\n",
    "        self.d = d\n",
    "    \n",
    "    def printDate(self):\n",
    "        print('The current date is', self.d)\n",
    "        \n",
    "class Date_Time(My_Date, My_Time):\n",
    "    def __init__(self, d, t):\n",
    "        My_Date.__init__(self, d)\n",
    "        My_Time.__init__(self, t)\n",
    "             \n",
    "x = Date_Time('13.03.2013', '12 PM')\n",
    "x.printTime()\n",
    "x.printDate()"
   ]
  },
  {
   "cell_type": "code",
   "execution_count": 51,
   "metadata": {},
   "outputs": [
    {
     "name": "stdout",
     "output_type": "stream",
     "text": [
      "The model of the vehicle is BMW\n",
      "The color of the vehicle is red\n"
     ]
    }
   ],
   "source": [
    "#Problem 4\n",
    "class Model:\n",
    "    def __init__(self, name):\n",
    "        self.name = name\n",
    "        \n",
    "    def printModel(self):\n",
    "        print('The model of the vehicle is', self.name)\n",
    "    \n",
    "class Color:\n",
    "    def __init__(self, color):\n",
    "        self.color = color\n",
    "    \n",
    "    def printColor(self):\n",
    "        print('The color of the vehicle is', self.color)\n",
    "        \n",
    "\n",
    "class Car(Model, Color):\n",
    "    def __init__(self, model, color):\n",
    "        Model.__init__(self, model)\n",
    "        Color.__init__(self, color)\n",
    "\n",
    "x = Car('BMW', 'red')\n",
    "x.printModel()\n",
    "x.printColor()"
   ]
  },
  {
   "cell_type": "code",
   "execution_count": null,
   "metadata": {},
   "outputs": [],
   "source": []
  }
 ],
 "metadata": {
  "kernelspec": {
   "display_name": "Python 3",
   "language": "python",
   "name": "python3"
  },
  "language_info": {
   "codemirror_mode": {
    "name": "ipython",
    "version": 3
   },
   "file_extension": ".py",
   "mimetype": "text/x-python",
   "name": "python",
   "nbconvert_exporter": "python",
   "pygments_lexer": "ipython3",
   "version": "3.7.4"
  }
 },
 "nbformat": 4,
 "nbformat_minor": 2
}
