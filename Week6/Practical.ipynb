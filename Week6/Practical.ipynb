{
 "cells": [
  {
   "cell_type": "code",
   "execution_count": 1,
   "metadata": {},
   "outputs": [
    {
     "name": "stdout",
     "output_type": "stream",
     "text": [
      "red\n",
      "5\n"
     ]
    }
   ],
   "source": [
    "#Problem 1\n",
    "class Circle:\n",
    "    def __init__ (self, radius, color):\n",
    "        self.radius = radius\n",
    "        self.color = color\n",
    "        \n",
    "    def getDesc(self):\n",
    "        print('A %s circle with %s radius' % (self.color, self.radius))\n",
    "    \n",
    "x = Circle(color = 'red', radius = 5)\n",
    "print(x.color)\n",
    "print(x.radius)"
   ]
  },
  {
   "cell_type": "code",
   "execution_count": 2,
   "metadata": {},
   "outputs": [
    {
     "name": "stdout",
     "output_type": "stream",
     "text": [
      "hello\n",
      "HELLO\n"
     ]
    }
   ],
   "source": [
    "#Problem 2\n",
    "class upp:\n",
    "    def __init__(self, my_str):\n",
    "        self.my_str = my_str\n",
    "        \n",
    "    def get_String(self):\n",
    "        return self.my_str\n",
    "    \n",
    "    def print_String(self):\n",
    "        return self.my_str.upper()\n",
    "    \n",
    "x = upp(my_str = 'hello')\n",
    "print(x.get_String())\n",
    "print(x.print_String())"
   ]
  },
  {
   "cell_type": "code",
   "execution_count": 3,
   "metadata": {},
   "outputs": [
    {
     "name": "stdout",
     "output_type": "stream",
     "text": [
      "Jack Smith\n",
      "High\n"
     ]
    }
   ],
   "source": [
    "#Problem 3\n",
    "class Employee:\n",
    "    def __init__(self, name, last_name, monthly_salary):\n",
    "        self.name = name\n",
    "        self.last_name = last_name\n",
    "        self.__monthly_salary = monthly_salary\n",
    "    def getFullName(self):\n",
    "        return self.name + ' ' + self.last_name\n",
    "    \n",
    "    def annualSalary(self):\n",
    "        year_salary = 12*self.__monthly_salary\n",
    "        if year_salary>100:\n",
    "            return 'High'\n",
    "        else:\n",
    "            return 'Low'\n",
    "x = Employee(name = 'Jack', last_name = 'Smith', monthly_salary = 14)\n",
    "print(x.getFullName())\n",
    "print(x.annualSalary())"
   ]
  },
  {
   "cell_type": "code",
   "execution_count": 4,
   "metadata": {},
   "outputs": [
    {
     "name": "stdout",
     "output_type": "stream",
     "text": [
      "Car 1 is better than car 2.\n"
     ]
    }
   ],
   "source": [
    "#Problem 4\n",
    "class Car:\n",
    "    def __init__(self, model, color, max_speed):\n",
    "        self.model = model\n",
    "        self.color = color\n",
    "        self.max_speed = max_speed\n",
    "        \n",
    "    def compareCar(self, car2):\n",
    "        if self.max_speed>car2.max_speed:\n",
    "            print('Car 1 is better than car 2.')\n",
    "        else:\n",
    "            print('Car 2 is better than car 1.')\n",
    "        \n",
    "x = Car('Ferrari', 'red', 350)\n",
    "y = Car('Bentley', 'black', 300)\n",
    "x.compareCar(y)"
   ]
  },
  {
   "cell_type": "code",
   "execution_count": 5,
   "metadata": {},
   "outputs": [
    {
     "name": "stdout",
     "output_type": "stream",
     "text": [
      "4000.0\n",
      "Welcome to your car, John.\n"
     ]
    }
   ],
   "source": [
    "#Problem 5\n",
    "class Police_car:\n",
    "    \n",
    "    tax_value = 0.2\n",
    "    \n",
    "    def __init__(self, owner, price, pass_code):\n",
    "        self.owner = owner\n",
    "        self.price = price\n",
    "        self.__pass_code = pass_code\n",
    "        \n",
    "    def tax(self):\n",
    "        return self.tax_value * self.price\n",
    "    \n",
    "    def greating(self):\n",
    "        if self.__pass_code == 'admin':\n",
    "            print('Welcome to your car, %s.' % self.owner)\n",
    "\n",
    "\n",
    "x = Police_car(owner = 'John', price = 20000, pass_code = 'admin')\n",
    "print(x.tax())\n",
    "x.greating()"
   ]
  },
  {
   "cell_type": "code",
   "execution_count": 6,
   "metadata": {},
   "outputs": [
    {
     "name": "stdout",
     "output_type": "stream",
     "text": [
      "I can run really fast.\n"
     ]
    }
   ],
   "source": [
    "#Problem 6\n",
    "class Animal:\n",
    "    def __init__(self, name):\n",
    "        self.name = name\n",
    "    \n",
    "    def move(self):\n",
    "        print('I can move.')\n",
    "    \n",
    "class Dog(Animal):\n",
    "    def __init__(self):\n",
    "            Animal.__init__(self, 'Dog')\n",
    "    def move(self):\n",
    "        print('I can run really fast.')\n",
    "        \n",
    "x = Dog()\n",
    "x.move()"
   ]
  },
  {
   "cell_type": "code",
   "execution_count": 7,
   "metadata": {},
   "outputs": [
    {
     "name": "stdout",
     "output_type": "stream",
     "text": [
      "My name is Exnik.\n",
      "I have 4 legs.\n"
     ]
    }
   ],
   "source": [
    "#Problem 7\n",
    "class Animal:\n",
    "    def __init__(self, name, legs):\n",
    "        self.name = name\n",
    "        self.legs = legs\n",
    "        \n",
    "    def getName(self):\n",
    "        print('My name is %s.' % self.name)\n",
    "        \n",
    "    def getLegs(self):\n",
    "        print('I have %s legs.' % self.legs)\n",
    "    \n",
    "class Exnik(Animal):\n",
    "    def __init__(self):\n",
    "        Animal.__init__(self, 'Exnik', 4)\n",
    "\n",
    "x = Exnik()\n",
    "x.getName()\n",
    "x.getLegs()"
   ]
  },
  {
   "cell_type": "code",
   "execution_count": 8,
   "metadata": {},
   "outputs": [
    {
     "name": "stdout",
     "output_type": "stream",
     "text": [
      "I believe i can fly.\n"
     ]
    }
   ],
   "source": [
    "#Problem 8\n",
    "from abc import ABC,abstractmethod\n",
    "class bird(ABC):\n",
    "\n",
    "    def __init__(self, name, weight):\n",
    "        self.name = name\n",
    "        self.weight = weight\n",
    "        super().__init__()\n",
    "        \n",
    "    @abstractmethod\n",
    "    def fly(self):\n",
    "        pass\n",
    "        \n",
    "class hav(bird):\n",
    "    def fly(self):\n",
    "        print('I believe i can fly.')\n",
    "\n",
    "x = hav('Hav', 3)\n",
    "x.fly()"
   ]
  },
  {
   "cell_type": "code",
   "execution_count": null,
   "metadata": {},
   "outputs": [],
   "source": []
  }
 ],
 "metadata": {
  "kernelspec": {
   "display_name": "Python 3",
   "language": "python",
   "name": "python3"
  },
  "language_info": {
   "codemirror_mode": {
    "name": "ipython",
    "version": 3
   },
   "file_extension": ".py",
   "mimetype": "text/x-python",
   "name": "python",
   "nbconvert_exporter": "python",
   "pygments_lexer": "ipython3",
   "version": "3.7.4"
  }
 },
 "nbformat": 4,
 "nbformat_minor": 2
}
